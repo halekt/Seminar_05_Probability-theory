{
 "cells": [
  {
   "cell_type": "code",
   "execution_count": null,
   "id": "944d109d",
   "metadata": {},
   "outputs": [],
   "source": [
    "# Задача 1. Когда используется критерий Стьюдента, а когда Z –критерий?\n",
    "\n",
    "# Z –критерий используется, когда известна Сигма генеральной совокупности, если она не изветсна то испольуют критерий Стьюдента t.\n",
    "\n"
   ]
  },
  {
   "cell_type": "code",
   "execution_count": null,
   "id": "82cfa9cf",
   "metadata": {},
   "outputs": [],
   "source": [
    "# Задача 2. Проведите тест гипотезы. Утверждается, что шарики для подшипников, изготовленные\n",
    "# автоматическим станком, имеют средний диаметр 17 мм.\n",
    "# Используя односторонний критерий с α=0,05, проверить эту гипотезу, если в выборке из\n",
    "# n=100 шариков средний диаметр\n",
    "# оказался равным 17.5 мм, а дисперсия известна и равна 4 кв. мм."
   ]
  },
  {
   "cell_type": "code",
   "execution_count": null,
   "id": "410cc521",
   "metadata": {},
   "outputs": [],
   "source": [
    "# Формулируем нулевую и альтернативную гипотезы:\n",
    "# H0 μ = 17 мм\n",
    "# H1 μ1 ≠ 17 мм\n"
   ]
  },
  {
   "cell_type": "code",
   "execution_count": 1,
   "id": "c44c41db",
   "metadata": {},
   "outputs": [],
   "source": [
    "import numpy as np\n",
    "from scipy import stats"
   ]
  },
  {
   "cell_type": "code",
   "execution_count": 4,
   "id": "59ea14cc",
   "metadata": {},
   "outputs": [
    {
     "name": "stdout",
     "output_type": "stream",
     "text": [
      "Наблюдаемое значение z-критерия:  2.5000\n"
     ]
    }
   ],
   "source": [
    "z = (17.5 - 17)/(2 / np.sqrt(100))\n",
    "print(f'Наблюдаемое значение z-критерия: {z: .4f}')"
   ]
  },
  {
   "cell_type": "code",
   "execution_count": 5,
   "id": "a14e8683",
   "metadata": {},
   "outputs": [
    {
     "name": "stdout",
     "output_type": "stream",
     "text": [
      "Табличное значение z-критерия:  1.6449\n"
     ]
    }
   ],
   "source": [
    "alpha = 0.05\n",
    "zt=stats.norm.ppf(1 - alpha)\n",
    "print(f'Табличное значение z-критерия: {zt: .4f}')"
   ]
  },
  {
   "cell_type": "code",
   "execution_count": null,
   "id": "ce85c5ba",
   "metadata": {},
   "outputs": [],
   "source": [
    "# Наблюдаемое значение 2,5 больше табличного значения 1,64,\n",
    "# гипотеза H0 не верная, принимается гипотеза H1.\n",
    "# Ширики имееют средний деаметр больше 17 мм"
   ]
  },
  {
   "cell_type": "code",
   "execution_count": null,
   "id": "ece16eb0",
   "metadata": {},
   "outputs": [],
   "source": [
    "# Задача 3. Проведите тест гипотезы. Продавец утверждает, что средний вес пачки печенья\n",
    "# составляет 200 г.\n",
    "# Из партии извлечена выборка из 10 пачек. Вес каждой пачки составляет:\n",
    "# 202, 203, 199, 197, 195, 201, 200, 204, 194, 190.\n",
    "# Известно, что их веса распределены нормально.\n",
    "# Верно ли утверждение продавца, если учитывать, что доверительная вероятность равна\n",
    "# 99%? (Провести двусторонний тест.)"
   ]
  },
  {
   "cell_type": "code",
   "execution_count": null,
   "id": "d8bc481e",
   "metadata": {},
   "outputs": [],
   "source": [
    "# Формулируем нулевую и альтернативную гипотезы:\n",
    "# H0 μ = 200\n",
    "# H1 μ1 ≠ 200"
   ]
  },
  {
   "cell_type": "code",
   "execution_count": 8,
   "id": "82c14e03",
   "metadata": {},
   "outputs": [],
   "source": [
    "my_array=np.array([202, 203, 199, 197, 195, 201, 200, 204, 194, 190])"
   ]
  },
  {
   "cell_type": "code",
   "execution_count": 9,
   "id": "c4bcc5f6",
   "metadata": {},
   "outputs": [
    {
     "name": "stdout",
     "output_type": "stream",
     "text": [
      "Наблюдаемое значение t-критерия: -1.0651\n"
     ]
    }
   ],
   "source": [
    "tn=(np.mean(my_array)-200)/(np.std(my_array,ddof=1)/len(my_array)**0.5)\n",
    "print(f'Наблюдаемое значение t-критерия: {tn: .4f}')"
   ]
  },
  {
   "cell_type": "code",
   "execution_count": 11,
   "id": "143be032",
   "metadata": {},
   "outputs": [
    {
     "name": "stdout",
     "output_type": "stream",
     "text": [
      "Табличное значение t-критерия:  3.2498\n"
     ]
    }
   ],
   "source": [
    "tt=stats.t.ppf(1 - 0.01 / 2, df = len(my_array) - 1)\n",
    "print(f'Табличное значение t-критерия: {tt: .4f}')"
   ]
  },
  {
   "cell_type": "code",
   "execution_count": null,
   "id": "766a951c",
   "metadata": {},
   "outputs": [],
   "source": [
    "# Наблюдаемое значение -1.0651 больше табличного значения 3.2498,\n",
    "# гипотеза H0 принимается, \n",
    "# Средний вес пачки печенья составляет 200 г"
   ]
  },
  {
   "cell_type": "code",
   "execution_count": null,
   "id": "2fa99b79",
   "metadata": {},
   "outputs": [],
   "source": [
    "# Задача 4. Есть ли статистически значимые различия в росте\n",
    "# дочерей?\n",
    "# Рост матерей 172, 177, 158, 170, 178,175, 164, 160, 169, 165\n",
    "# Рост взрослых дочерей: 173, 175, 162, 174, 175, 168, 155, 170, 160, 163\n",
    "# Задачу 4 решать с помощью функции."
   ]
  },
  {
   "cell_type": "code",
   "execution_count": null,
   "id": "420bb028",
   "metadata": {},
   "outputs": [],
   "source": [
    "# Принимаем alpha = 0.05\n",
    "# Используем двухвыборочную t-проверку"
   ]
  },
  {
   "cell_type": "code",
   "execution_count": 12,
   "id": "f5320d1d",
   "metadata": {},
   "outputs": [
    {
     "data": {
      "text/plain": [
       "TtestResult(statistic=0.6648478531431979, pvalue=0.5228168632983574, df=9)"
      ]
     },
     "execution_count": 12,
     "metadata": {},
     "output_type": "execute_result"
    }
   ],
   "source": [
    "m = [172, 177, 158, 170, 178, 175, 164, 160, 169, 165]\n",
    "d = [173, 175, 162, 174, 175, 168, 155, 170, 160, 163]\n",
    "\n",
    "stats.ttest_rel(m, d)"
   ]
  },
  {
   "cell_type": "code",
   "execution_count": null,
   "id": "1612cbdf",
   "metadata": {},
   "outputs": [],
   "source": [
    "# pvalue 0.52 > alpha 0.05, статистически значимых различий нет на уровне значимости alpha = 0.05"
   ]
  }
 ],
 "metadata": {
  "kernelspec": {
   "display_name": "Python 3 (ipykernel)",
   "language": "python",
   "name": "python3"
  },
  "language_info": {
   "codemirror_mode": {
    "name": "ipython",
    "version": 3
   },
   "file_extension": ".py",
   "mimetype": "text/x-python",
   "name": "python",
   "nbconvert_exporter": "python",
   "pygments_lexer": "ipython3",
   "version": "3.11.1"
  }
 },
 "nbformat": 4,
 "nbformat_minor": 5
}
